{
 "cells": [
  {
   "cell_type": "markdown",
   "metadata": {},
   "source": [
    "# ***<center>Important built-in functions</center>***\n",
    "<img src=http://s2.quickmeme.com/img/2d/2ddc7d5b4e7d6ee47bfd5b33acf3a1201b49877a4163d5f49ee5ba05685ccaae.jpg height=400 width=400>"
   ]
  },
  {
   "cell_type": "markdown",
   "metadata": {},
   "source": [
    "## 1. sort\n",
    "\n",
    "<img src=http://s2.quickmeme.com/img/96/963e77d9824553104fd63cb3cbcd81867a61672d89482bc7a492aaa8f6935449.jpg height=400 width=400>\n",
    "\n",
    "- In place sorting: __iterable__.sort()\n",
    "    \n",
    "    \n",
    "- Return a sorted iterable: sorted(__iterable__)\n",
    "\n",
    "\n",
    "- Two optional arguments: **key** and **reverse**.\n",
    "    - ***key***: specifies a **function of one argument** that is used to extract a **comparison key** from each list element\n",
    "    - ***reverse***: A boolean value. If set to True, then the list elements are sorted as if each comparison were reversed."
   ]
  },
  {
   "cell_type": "code",
   "execution_count": 8,
   "metadata": {},
   "outputs": [],
   "source": [
    "def reverse(num):\n",
    "    return -num"
   ]
  },
  {
   "cell_type": "code",
   "execution_count": 2,
   "metadata": {},
   "outputs": [],
   "source": [
    "l = [2,-3,1]"
   ]
  },
  {
   "cell_type": "code",
   "execution_count": 9,
   "metadata": {},
   "outputs": [
    {
     "data": {
      "text/plain": [
       "[2, 1, -3]"
      ]
     },
     "execution_count": 9,
     "metadata": {},
     "output_type": "execute_result"
    }
   ],
   "source": [
    "sorted(l, key=reverse)"
   ]
  },
  {
   "cell_type": "markdown",
   "metadata": {},
   "source": [
    "## 2. enumerate\n",
    "\n",
    "```python\n",
    "enumerate(iterable)\n",
    "```\n",
    "\n",
    "Returns a tuple containing a count (from start which defaults to 0) and the values obtained from iterating over the iterable."
   ]
  },
  {
   "cell_type": "code",
   "execution_count": 17,
   "metadata": {},
   "outputs": [
    {
     "data": {
      "text/plain": [
       "[(0, 2), (1, -3), (2, 1)]"
      ]
     },
     "execution_count": 17,
     "metadata": {},
     "output_type": "execute_result"
    }
   ],
   "source": [
    "list(enumerate(l))"
   ]
  },
  {
   "cell_type": "code",
   "execution_count": 12,
   "metadata": {},
   "outputs": [
    {
     "name": "stdout",
     "output_type": "stream",
     "text": [
      "0 2\n",
      "1 -3\n",
      "2 1\n"
     ]
    }
   ],
   "source": [
    "for idx, ele in enumerate(l):\n",
    "    print(idx, ele)"
   ]
  },
  {
   "cell_type": "markdown",
   "metadata": {},
   "source": [
    "## 3. zip\n",
    "\n",
    "Make an iterator that aggregates elements from each of the iterables.\n",
    "\n",
    "![](http://s2.quickmeme.com/img/56/568cf8f60a23bea949f5bc0143607934e7fd8a7e5d0f5c44b86fc12c1ffb8185.jpg)"
   ]
  },
  {
   "cell_type": "code",
   "execution_count": 18,
   "metadata": {},
   "outputs": [],
   "source": [
    "names = ['Ram', 'Shyam', 'Ravi', 'Mohan']\n",
    "scores = [3,4,5,2]"
   ]
  },
  {
   "cell_type": "code",
   "execution_count": 19,
   "metadata": {},
   "outputs": [],
   "source": [
    "data = []"
   ]
  },
  {
   "cell_type": "code",
   "execution_count": 20,
   "metadata": {},
   "outputs": [],
   "source": [
    "for i in range(len(names)):\n",
    "    data.append((names[i], scores[i]))"
   ]
  },
  {
   "cell_type": "code",
   "execution_count": 21,
   "metadata": {},
   "outputs": [
    {
     "data": {
      "text/plain": [
       "[('Ram', 3), ('Shyam', 4), ('Ravi', 5), ('Mohan', 2)]"
      ]
     },
     "execution_count": 21,
     "metadata": {},
     "output_type": "execute_result"
    }
   ],
   "source": [
    "data"
   ]
  },
  {
   "cell_type": "code",
   "execution_count": 24,
   "metadata": {},
   "outputs": [
    {
     "data": {
      "text/plain": [
       "[('Ram', 3), ('Shyam', 4), ('Ravi', 5), ('Mohan', 2)]"
      ]
     },
     "execution_count": 24,
     "metadata": {},
     "output_type": "execute_result"
    }
   ],
   "source": [
    "list(zip(names, scores))"
   ]
  },
  {
   "cell_type": "markdown",
   "metadata": {},
   "source": [
    "## 4. all and any\n",
    "\n",
    "![](https://i.imgflip.com/21cqld.jpg)\n",
    "\n",
    "- all\n",
    "\n",
    "Returns True if all elements of the iterable are true.\n",
    "\n",
    "- any\n",
    "\n",
    "Return True if any element of the iterable is true."
   ]
  },
  {
   "cell_type": "code",
   "execution_count": 25,
   "metadata": {},
   "outputs": [
    {
     "data": {
      "text/plain": [
       "False"
      ]
     },
     "execution_count": 25,
     "metadata": {},
     "output_type": "execute_result"
    }
   ],
   "source": [
    "all([True, False, True])"
   ]
  },
  {
   "cell_type": "code",
   "execution_count": 26,
   "metadata": {},
   "outputs": [
    {
     "data": {
      "text/plain": [
       "True"
      ]
     },
     "execution_count": 26,
     "metadata": {},
     "output_type": "execute_result"
    }
   ],
   "source": [
    "all([True, True])"
   ]
  },
  {
   "cell_type": "code",
   "execution_count": 27,
   "metadata": {},
   "outputs": [
    {
     "data": {
      "text/plain": [
       "True"
      ]
     },
     "execution_count": 27,
     "metadata": {},
     "output_type": "execute_result"
    }
   ],
   "source": [
    "any([True, False, False])"
   ]
  },
  {
   "cell_type": "code",
   "execution_count": 31,
   "metadata": {},
   "outputs": [],
   "source": [
    "s = \"qA@\"[char.isalnum() for char in s]"
   ]
  },
  {
   "cell_type": "code",
   "execution_count": 32,
   "metadata": {},
   "outputs": [
    {
     "data": {
      "text/plain": [
       "[True, True, False]"
      ]
     },
     "execution_count": 32,
     "metadata": {},
     "output_type": "execute_result"
    }
   ],
   "source": [
    "[char.isalnum() for char in s]"
   ]
  },
  {
   "cell_type": "code",
   "execution_count": 29,
   "metadata": {},
   "outputs": [
    {
     "data": {
      "text/plain": [
       "True"
      ]
     },
     "execution_count": 29,
     "metadata": {},
     "output_type": "execute_result"
    }
   ],
   "source": [
    "any([char.isalnum() for char in s])"
   ]
  },
  {
   "cell_type": "markdown",
   "metadata": {},
   "source": [
    "## 5. globals and locals\n",
    "\n",
    "- **globals**\n",
    "\n",
    "    Return a dictionary representing the current global symbol table. \n",
    "    \n",
    "- **locals**\n",
    "\n",
    "    Return a dictionary representing the current local symbol table."
   ]
  },
  {
   "cell_type": "code",
   "execution_count": 33,
   "metadata": {},
   "outputs": [
    {
     "data": {
      "text/plain": [
       "{'__name__': '__main__',\n",
       " '__doc__': 'Automatically created module for IPython interactive environment',\n",
       " '__package__': None,\n",
       " '__loader__': None,\n",
       " '__spec__': None,\n",
       " '__builtin__': <module 'builtins' (built-in)>,\n",
       " '__builtins__': <module 'builtins' (built-in)>,\n",
       " '_ih': ['',\n",
       "  'def absolute(num):\\n    return abs(num)',\n",
       "  'l = [2,-3,1]',\n",
       "  'sorted(l, key=absolute)',\n",
       "  'sorted(l, key=abs)',\n",
       "  'sorted(l, key=absolute)',\n",
       "  'def absolute(num):\\n    return -abs(num)',\n",
       "  'sorted(l, key=absolute)',\n",
       "  'def reverse(num):\\n    return -num',\n",
       "  'sorted(l, key=reverse)',\n",
       "  'enumerate(l)',\n",
       "  'list(enumerate(l))',\n",
       "  'for idx, ele in enumerate(l):\\n    print(idx, ele)',\n",
       "  'list(enumerate(l))[0]',\n",
       "  'a,b = list(enumerate(l))[0]',\n",
       "  'a',\n",
       "  'b',\n",
       "  'list(enumerate(l))',\n",
       "  \"names = ['Ram', 'Shyam', 'Ravi', 'Mohan']\\nscores = [3,4,5,2]\",\n",
       "  'data = []',\n",
       "  'for i in range(len(names)):\\n    data.append((names[i], scores[i]))',\n",
       "  'data',\n",
       "  'list(zip(names, scores))',\n",
       "  'list(zip(names, scores, names, scores))',\n",
       "  'list(zip(names, scores))',\n",
       "  'all([True, False, True])',\n",
       "  'all([True, True])',\n",
       "  'any([True, False, False])',\n",
       "  's = \"qA2\"',\n",
       "  'any([char.isalnum() for char in s])',\n",
       "  '[char.isalnum() for char in s]',\n",
       "  's = \"qA@\"',\n",
       "  '[char.isalnum() for char in s]',\n",
       "  'globals()'],\n",
       " '_oh': {3: [1, 2, -3],\n",
       "  4: [1, 2, -3],\n",
       "  5: [1, 2, -3],\n",
       "  7: [-3, 2, 1],\n",
       "  9: [2, 1, -3],\n",
       "  10: <enumerate at 0x7f2eb8090948>,\n",
       "  11: [(0, 2), (1, -3), (2, 1)],\n",
       "  13: (0, 2),\n",
       "  15: 0,\n",
       "  16: 2,\n",
       "  17: [(0, 2), (1, -3), (2, 1)],\n",
       "  21: [('Ram', 3), ('Shyam', 4), ('Ravi', 5), ('Mohan', 2)],\n",
       "  22: [('Ram', 3), ('Shyam', 4), ('Ravi', 5), ('Mohan', 2)],\n",
       "  23: [('Ram', 3, 'Ram', 3),\n",
       "   ('Shyam', 4, 'Shyam', 4),\n",
       "   ('Ravi', 5, 'Ravi', 5),\n",
       "   ('Mohan', 2, 'Mohan', 2)],\n",
       "  24: [('Ram', 3), ('Shyam', 4), ('Ravi', 5), ('Mohan', 2)],\n",
       "  25: False,\n",
       "  26: True,\n",
       "  27: True,\n",
       "  29: True,\n",
       "  30: [True, True, True],\n",
       "  32: [True, True, False]},\n",
       " '_dh': ['/home/nikhil/Desktop/Basics-of-Python'],\n",
       " 'In': ['',\n",
       "  'def absolute(num):\\n    return abs(num)',\n",
       "  'l = [2,-3,1]',\n",
       "  'sorted(l, key=absolute)',\n",
       "  'sorted(l, key=abs)',\n",
       "  'sorted(l, key=absolute)',\n",
       "  'def absolute(num):\\n    return -abs(num)',\n",
       "  'sorted(l, key=absolute)',\n",
       "  'def reverse(num):\\n    return -num',\n",
       "  'sorted(l, key=reverse)',\n",
       "  'enumerate(l)',\n",
       "  'list(enumerate(l))',\n",
       "  'for idx, ele in enumerate(l):\\n    print(idx, ele)',\n",
       "  'list(enumerate(l))[0]',\n",
       "  'a,b = list(enumerate(l))[0]',\n",
       "  'a',\n",
       "  'b',\n",
       "  'list(enumerate(l))',\n",
       "  \"names = ['Ram', 'Shyam', 'Ravi', 'Mohan']\\nscores = [3,4,5,2]\",\n",
       "  'data = []',\n",
       "  'for i in range(len(names)):\\n    data.append((names[i], scores[i]))',\n",
       "  'data',\n",
       "  'list(zip(names, scores))',\n",
       "  'list(zip(names, scores, names, scores))',\n",
       "  'list(zip(names, scores))',\n",
       "  'all([True, False, True])',\n",
       "  'all([True, True])',\n",
       "  'any([True, False, False])',\n",
       "  's = \"qA2\"',\n",
       "  'any([char.isalnum() for char in s])',\n",
       "  '[char.isalnum() for char in s]',\n",
       "  's = \"qA@\"',\n",
       "  '[char.isalnum() for char in s]',\n",
       "  'globals()'],\n",
       " 'Out': {3: [1, 2, -3],\n",
       "  4: [1, 2, -3],\n",
       "  5: [1, 2, -3],\n",
       "  7: [-3, 2, 1],\n",
       "  9: [2, 1, -3],\n",
       "  10: <enumerate at 0x7f2eb8090948>,\n",
       "  11: [(0, 2), (1, -3), (2, 1)],\n",
       "  13: (0, 2),\n",
       "  15: 0,\n",
       "  16: 2,\n",
       "  17: [(0, 2), (1, -3), (2, 1)],\n",
       "  21: [('Ram', 3), ('Shyam', 4), ('Ravi', 5), ('Mohan', 2)],\n",
       "  22: [('Ram', 3), ('Shyam', 4), ('Ravi', 5), ('Mohan', 2)],\n",
       "  23: [('Ram', 3, 'Ram', 3),\n",
       "   ('Shyam', 4, 'Shyam', 4),\n",
       "   ('Ravi', 5, 'Ravi', 5),\n",
       "   ('Mohan', 2, 'Mohan', 2)],\n",
       "  24: [('Ram', 3), ('Shyam', 4), ('Ravi', 5), ('Mohan', 2)],\n",
       "  25: False,\n",
       "  26: True,\n",
       "  27: True,\n",
       "  29: True,\n",
       "  30: [True, True, True],\n",
       "  32: [True, True, False]},\n",
       " 'get_ipython': <bound method InteractiveShell.get_ipython of <ipykernel.zmqshell.ZMQInteractiveShell object at 0x7f2eb95e1898>>,\n",
       " 'exit': <IPython.core.autocall.ZMQExitAutocall at 0x7f2eb83a7d30>,\n",
       " 'quit': <IPython.core.autocall.ZMQExitAutocall at 0x7f2eb83a7d30>,\n",
       " '_': [True, True, False],\n",
       " '__': [True, True, True],\n",
       " '___': True,\n",
       " '_i': '[char.isalnum() for char in s]',\n",
       " '_ii': 's = \"qA@\"',\n",
       " '_iii': '[char.isalnum() for char in s]',\n",
       " '_i1': 'def absolute(num):\\n    return abs(num)',\n",
       " 'absolute': <function __main__.absolute(num)>,\n",
       " '_i2': 'l = [2,-3,1]',\n",
       " 'l': [2, -3, 1],\n",
       " '_i3': 'sorted(l, key=absolute)',\n",
       " '_3': [1, 2, -3],\n",
       " '_i4': 'sorted(l, key=abs)',\n",
       " '_4': [1, 2, -3],\n",
       " '_i5': 'sorted(l, key=absolute)',\n",
       " '_5': [1, 2, -3],\n",
       " '_i6': 'def absolute(num):\\n    return -abs(num)',\n",
       " '_i7': 'sorted(l, key=absolute)',\n",
       " '_7': [-3, 2, 1],\n",
       " '_i8': 'def reverse(num):\\n    return -num',\n",
       " 'reverse': <function __main__.reverse(num)>,\n",
       " '_i9': 'sorted(l, key=reverse)',\n",
       " '_9': [2, 1, -3],\n",
       " '_i10': 'enumerate(l)',\n",
       " '_10': <enumerate at 0x7f2eb8090948>,\n",
       " '_i11': 'list(enumerate(l))',\n",
       " '_11': [(0, 2), (1, -3), (2, 1)],\n",
       " '_i12': 'for idx, ele in enumerate(l):\\n    print(idx, ele)',\n",
       " 'idx': 2,\n",
       " 'ele': 1,\n",
       " '_i13': 'list(enumerate(l))[0]',\n",
       " '_13': (0, 2),\n",
       " '_i14': 'a,b = list(enumerate(l))[0]',\n",
       " 'a': 0,\n",
       " 'b': 2,\n",
       " '_i15': 'a',\n",
       " '_15': 0,\n",
       " '_i16': 'b',\n",
       " '_16': 2,\n",
       " '_i17': 'list(enumerate(l))',\n",
       " '_17': [(0, 2), (1, -3), (2, 1)],\n",
       " '_i18': \"names = ['Ram', 'Shyam', 'Ravi', 'Mohan']\\nscores = [3,4,5,2]\",\n",
       " 'names': ['Ram', 'Shyam', 'Ravi', 'Mohan'],\n",
       " 'scores': [3, 4, 5, 2],\n",
       " '_i19': 'data = []',\n",
       " 'data': [('Ram', 3), ('Shyam', 4), ('Ravi', 5), ('Mohan', 2)],\n",
       " '_i20': 'for i in range(len(names)):\\n    data.append((names[i], scores[i]))',\n",
       " 'i': 3,\n",
       " '_i21': 'data',\n",
       " '_21': [('Ram', 3), ('Shyam', 4), ('Ravi', 5), ('Mohan', 2)],\n",
       " '_i22': 'list(zip(names, scores))',\n",
       " '_22': [('Ram', 3), ('Shyam', 4), ('Ravi', 5), ('Mohan', 2)],\n",
       " '_i23': 'list(zip(names, scores, names, scores))',\n",
       " '_23': [('Ram', 3, 'Ram', 3),\n",
       "  ('Shyam', 4, 'Shyam', 4),\n",
       "  ('Ravi', 5, 'Ravi', 5),\n",
       "  ('Mohan', 2, 'Mohan', 2)],\n",
       " '_i24': 'list(zip(names, scores))',\n",
       " '_24': [('Ram', 3), ('Shyam', 4), ('Ravi', 5), ('Mohan', 2)],\n",
       " '_i25': 'all([True, False, True])',\n",
       " '_25': False,\n",
       " '_i26': 'all([True, True])',\n",
       " '_26': True,\n",
       " '_i27': 'any([True, False, False])',\n",
       " '_27': True,\n",
       " '_i28': 's = \"qA2\"',\n",
       " 's': 'qA@',\n",
       " '_i29': 'any([char.isalnum() for char in s])',\n",
       " '_29': True,\n",
       " '_i30': '[char.isalnum() for char in s]',\n",
       " '_30': [True, True, True],\n",
       " '_i31': 's = \"qA@\"',\n",
       " '_i32': '[char.isalnum() for char in s]',\n",
       " '_32': [True, True, False],\n",
       " '_i33': 'globals()'}"
      ]
     },
     "execution_count": 33,
     "metadata": {},
     "output_type": "execute_result"
    }
   ],
   "source": [
    "globals()"
   ]
  },
  {
   "cell_type": "code",
   "execution_count": 34,
   "metadata": {},
   "outputs": [],
   "source": [
    "def myfunc(a,b):\n",
    "    c=a+b\n",
    "    print(locals())\n",
    "    return c"
   ]
  },
  {
   "cell_type": "code",
   "execution_count": 35,
   "metadata": {},
   "outputs": [
    {
     "name": "stdout",
     "output_type": "stream",
     "text": [
      "{'c': 3, 'b': 2, 'a': 1}\n"
     ]
    },
    {
     "data": {
      "text/plain": [
       "3"
      ]
     },
     "execution_count": 35,
     "metadata": {},
     "output_type": "execute_result"
    }
   ],
   "source": [
    "myfunc(1,2)"
   ]
  },
  {
   "cell_type": "markdown",
   "metadata": {},
   "source": [
    "## 6. eval\n",
    "\n",
    "```python\n",
    "eval(expression, globals=None, locals=None)\n",
    "```\n",
    "\n",
    "The expression argument is parsed and evaluated as a Python expression using the globals and locals dictionaries as global and local namespace."
   ]
  },
  {
   "cell_type": "code",
   "execution_count": 37,
   "metadata": {},
   "outputs": [
    {
     "data": {
      "text/plain": [
       "-2"
      ]
     },
     "execution_count": 37,
     "metadata": {},
     "output_type": "execute_result"
    }
   ],
   "source": [
    "eval(\"1   +3+4+6-8*2\")"
   ]
  },
  {
   "cell_type": "markdown",
   "metadata": {},
   "source": [
    "## Other built-in functions can be found [here](https://docs.python.org/3/library/functions.html)"
   ]
  }
 ],
 "metadata": {
  "kernelspec": {
   "display_name": "Python 3",
   "language": "python",
   "name": "python3"
  },
  "language_info": {
   "codemirror_mode": {
    "name": "ipython",
    "version": 3
   },
   "file_extension": ".py",
   "mimetype": "text/x-python",
   "name": "python",
   "nbconvert_exporter": "python",
   "pygments_lexer": "ipython3",
   "version": "3.6.7"
  }
 },
 "nbformat": 4,
 "nbformat_minor": 2
}
